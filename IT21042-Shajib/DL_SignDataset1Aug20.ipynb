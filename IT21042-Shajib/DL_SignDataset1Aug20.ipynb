{
  "nbformat": 4,
  "nbformat_minor": 0,
  "metadata": {
    "colab": {
      "provenance": []
    },
    "kernelspec": {
      "name": "python3",
      "display_name": "Python 3"
    },
    "language_info": {
      "name": "python"
    }
  },
  "cells": [
    {
      "cell_type": "code",
      "source": [
        "# Arda Mavi\n",
        "import os\n",
        "import numpy as np\n",
        "from os import listdir\n",
        "import imageio.v2 as imageio\n",
        "#from scipy.misc import imresize\n",
        "from keras.utils import to_categorical\n",
        "from sklearn.model_selection import train_test_split\n",
        "\n",
        "# Settings:\n",
        "img_size = 64\n",
        "grayscale_images = True\n",
        "num_class = 10\n",
        "test_size = 0.2\n",
        "\n",
        "\n",
        "def get_img(data_path):\n",
        "    # Getting image array from path:\n",
        "    img = imageio.imread(data_path, flatten=grayscale_images)\n",
        "    img = imageio.imresize(img, (img_size, img_size, 1 if grayscale_images else 3))\n",
        "    return img\n",
        "\n",
        "#dataset https://github.com/rahmanziaur/GradThesisICT18-Colab/tree/main/Datasets\n",
        "\n",
        "def get_dataset(dataset_path='Dataset'):\n",
        "    # Getting all data from data path:\n",
        "    try:\n",
        "        X = np.load('/content/X.npy')\n",
        "        Y = np.load('/content/Y.npy')\n",
        "    except:\n",
        "        labels = listdir(dataset_path) # Geting labels\n",
        "        X = []\n",
        "        Y = []\n",
        "        for i, label in enumerate(labels):\n",
        "            datas_path = dataset_path+'/'+label\n",
        "            for data in listdir(datas_path):\n",
        "                img = get_img(datas_path+'/'+data)\n",
        "                X.append(img)\n",
        "                Y.append(i)\n",
        "        # Create dateset:\n",
        "        X = 1-np.array(X).astype('float32')/255.\n",
        "        Y = np.array(Y).astype('float32')\n",
        "        Y = to_categorical(Y, num_class)\n",
        "        if not os.path.exists('npy_dataset/'):\n",
        "            os.makedirs('npy_dataset/')\n",
        "        np.save('npy_dataset/X.npy', X)\n",
        "        np.save('npy_dataset/Y.npy', Y)\n",
        "    X, X_test, Y, Y_test = train_test_split(X, Y, test_size=test_size, random_state=42)\n",
        "    return X, X_test, Y, Y_test\n",
        "\n",
        "if __name__ == '__main__':\n",
        "    get_dataset()"
      ],
      "metadata": {
        "id": "HmYx16RuuJ0c"
      },
      "execution_count": 6,
      "outputs": []
    },
    {
      "cell_type": "code",
      "source": [
        "import numpy as np\n",
        "import matplotlib.pyplot as plt\n",
        "\n",
        "x_l = np.load('/content/X.npy')\n",
        "Y_l = np.load('/content/Y.npy')\n",
        "img_size = 64\n",
        "plt.subplot(1, 2, 1)\n",
        "\n",
        "for i in x_1:\n",
        "    plt.imshow(i.reshape(img_size, img_size))\n",
        "    plt.axis('off')\n",
        "    plt.subplot(1, 2, 1)\n",
        "\n",
        "    # plt.subplot(1, 2, 2)\n",
        "    # plt.imshow([900].reshape(img_size, img_size))\n",
        "    # plt.axis('off')\n",
        "# plt.imshow(x_l[261].reshape(img_size, img_size))\n",
        "# plt.axis('off')\n",
        "\n"
      ],
      "metadata": {
        "colab": {
          "base_uri": "https://localhost:8080/",
          "height": 279
        },
        "id": "esCJ2xUXxlBJ",
        "outputId": "5f30ff0f-f5f8-472d-a352-fe9a07070e3e"
      },
      "execution_count": 8,
      "outputs": [
        {
          "output_type": "execute_result",
          "data": {
            "text/plain": [
              "(np.float64(-0.5), np.float64(63.5), np.float64(63.5), np.float64(-0.5))"
            ]
          },
          "metadata": {},
          "execution_count": 8
        },
        {
          "output_type": "display_data",
          "data": {
            "text/plain": [
              "<Figure size 640x480 with 2 Axes>"
            ],
            "image/png": "[encoded data removed]"
          },
          "metadata": {}
        }
      ]
    },
    {
      "cell_type": "code",
      "source": [
        "import numpy as np\n",
        "import matplotlib.pyplot as plt\n",
        "\n",
        "# Load datasets\n",
        "x_l = np.load('/content/X.npy')\n",
        "y_l = np.load('/content/Y.npy')\n",
        "img_size = 64\n",
        "\n",
        "# Show ALL images in batches of 20 per figure\n",
        "num_images = len(x_l)\n",
        "cols = 5\n",
        "rows = 4  # 20 images per figure\n",
        "\n",
        "for start in range(0, num_images, rows * cols):\n",
        "    end = min(start + rows * cols, num_images)\n",
        "    plt.figure(figsize=(10, 8))\n",
        "\n",
        "    for i, idx in enumerate(range(start, end)):\n",
        "        plt.subplot(rows, cols, i + 1)\n",
        "        plt.imshow(x_l[idx].reshape(img_size, img_size), cmap='gray')\n",
        "        plt.axis('off')\n",
        "        plt.title(str(y_l[idx]), fontsize=8)  # show label\n",
        "\n",
        "    plt.tight_layout()\n",
        "    plt.show()\n"
      ],
      "metadata": {
        "id": "CFiiTMGhzEbj"
      },
      "execution_count": null,
      "outputs": []
    },
    {
      "cell_type": "code",
      "source": [
        "# load data set\n",
        "x_l = np.load('/content/X.npy')\n",
        "y_l = np.load('/content/Y.npy')\n",
        "img_size = 64\n",
        "plt.subplot(1, 2, 1)\n",
        "plt.imshow(x_l[260].reshape(img_size, img_size), cmap='gray')\n",
        "plt.axis('off')\n",
        "plt.subplot(1, 2, 2)\n",
        "plt.imshow(x_l[5].reshape(img_size, img_size))\n",
        "plt.axis('off')"
      ],
      "metadata": {
        "colab": {
          "base_uri": "https://localhost:8080/",
          "height": 279
        },
        "id": "uxt-GgKo116i",
        "outputId": "77eaae87-5dcb-4afa-ed69-7d64c42cc118"
      },
      "execution_count": 17,
      "outputs": [
        {
          "output_type": "execute_result",
          "data": {
            "text/plain": [
              "(np.float64(-0.5), np.float64(63.5), np.float64(63.5), np.float64(-0.5))"
            ]
          },
          "metadata": {},
          "execution_count": 17
        },
        {
          "output_type": "display_data",
          "data": {
            "text/plain": [
              "<Figure size 640x480 with 2 Axes>"
            ],
            "image/png": "[encoded data removed]"
          },
          "metadata": {}
        }
      ]
    },
    {
      "cell_type": "code",
      "source": [
        "# Join a sequence of arrays along an row axis.\n",
        "X = np.concatenate((x_l[204:409], x_l[822:1027] ), axis=0) # from 0 to 204 is zero sign and from 205 to 410 is one sign\n",
        "z = np.zeros(205)\n",
        "o = np.ones(205)\n",
        "Y = np.concatenate((z, o), axis=0).reshape(X.shape[0],1)\n",
        "print(\"X shape: \" , X.shape)\n",
        "print(\"Y shape: \" , Y.shape)"
      ],
      "metadata": {
        "colab": {
          "base_uri": "https://localhost:8080/"
        },
        "id": "mLCZKbW62vwb",
        "outputId": "aed5acf9-0ef2-4d7b-8314-16e7c6b019fc"
      },
      "execution_count": 18,
      "outputs": [
        {
          "output_type": "stream",
          "name": "stdout",
          "text": [
            "X shape:  (410, 64, 64)\n",
            "Y shape:  (410, 1)\n"
          ]
        }
      ]
    },
    {
      "cell_type": "code",
      "source": [
        "# Then lets create x_train, y_train, x_test, y_test arrays\n",
        "from sklearn.model_selection import train_test_split\n",
        "X_train, X_test, Y_train, Y_test = train_test_split(X, Y, test_size=0.15, random_state=42)\n",
        "number_of_train = X_train.shape[0]\n",
        "number_of_test = X_test.shape[0]\n",
        "\n",
        "print(X_train.shape)\n",
        "print(Y_train.shape)\n",
        "print(X_test.shape)\n",
        "print(Y_test.shape)"
      ],
      "metadata": {
        "colab": {
          "base_uri": "https://localhost:8080/"
        },
        "id": "Q--6vjsq3Iy0",
        "outputId": "def4cc7b-9b7c-40cd-cf85-f102be361e73"
      },
      "execution_count": 21,
      "outputs": [
        {
          "output_type": "stream",
          "name": "stdout",
          "text": [
            "(348, 64, 64)\n",
            "(348, 1)\n",
            "(62, 64, 64)\n",
            "(62, 1)\n"
          ]
        }
      ]
    },
    {
      "cell_type": "code",
      "source": [
        "X_train_flatten = X_train.reshape(number_of_train,X_train.shape[1]*X_train.shape[2])\n",
        "X_test_flatten = X_test .reshape(number_of_test,X_test.shape[1]*X_test.shape[2])\n",
        "print(\"X train flatten\",X_train_flatten.shape)\n",
        "print(\"X test flatten\",X_test_flatten.shape)"
      ],
      "metadata": {
        "colab": {
          "base_uri": "https://localhost:8080/"
        },
        "id": "mVjHIol237Eb",
        "outputId": "3b609da3-213c-4992-8763-698d8695e504"
      },
      "execution_count": 22,
      "outputs": [
        {
          "output_type": "stream",
          "name": "stdout",
          "text": [
            "X train flatten (348, 4096)\n",
            "X test flatten (62, 4096)\n"
          ]
        }
      ]
    },
    {
      "cell_type": "markdown",
      "source": [
        "Why Transpose?"
      ],
      "metadata": {
        "id": "hdEGtyrz4Nlq"
      }
    },
    {
      "cell_type": "markdown",
      "source": [],
      "metadata": {
        "id": "WlQ4dYtrwFLm"
      }
    }
  ]
}